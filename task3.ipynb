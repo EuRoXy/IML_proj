{
 "cells": [
  {
   "cell_type": "code",
   "execution_count": 1,
   "metadata": {},
   "outputs": [
    {
     "name": "stdout",
     "output_type": "stream",
     "text": [
      "Elapsed time: 684.400\n",
      "train/valid size: 100800/11200\n"
     ]
    }
   ],
   "source": [
    "import time\n",
    "import numpy as np\n",
    "import pandas as pd\n",
    "\n",
    "from collections import Counter\n",
    "from sklearn.metrics import f1_score\n",
    "from sklearn.model_selection import train_test_split\n",
    "from sklearn.neural_network import MLPClassifier\n",
    "\n",
    "train = pd.DataFrame(pd.read_csv('train.csv'))\n",
    "test = pd.DataFrame(pd.read_csv('test.csv'))\n",
    "#train = train[:10000]\n",
    "\n",
    "codes = ['A', 'C', 'D', 'E', 'F', 'G', 'H', 'I', 'K', 'L',\n",
    "         'M', 'N', 'P', 'Q', 'R', 'S', 'T', 'V', 'W', 'Y']\n",
    "\n",
    "def one_hot_encode(seq):\n",
    "    o = list(set(codes) - set(seq))\n",
    "    s = pd.DataFrame(list(seq))    \n",
    "    x = pd.DataFrame(np.zeros((len(seq),len(o)),dtype=int),columns=o)    \n",
    "    a = s[0].str.get_dummies(sep=',')\n",
    "    a = a.join(x)\n",
    "    a = a.sort_index(axis=1)\n",
    "    e = a.values.flatten()\n",
    "    return e\n",
    "\n",
    "t1 = time.clock()\n",
    "X = train.Sequence.apply(lambda x: pd.Series(one_hot_encode(x)),1)\n",
    "y = train.Active\n",
    "t2 = time.clock()\n",
    "print(\"Elapsed time: %.3f\" %(t2-t1))\n",
    "\n",
    "train_split = 0.9\n",
    "X_train, X_valid, y_train, y_valid = train_test_split(X, y, train_size=train_split)\n",
    "print(F'train/valid size: {len(X_train)}/{len(X_valid)}')"
   ]
  },
  {
   "cell_type": "code",
   "execution_count": 3,
   "metadata": {},
   "outputs": [
    {
     "name": "stdout",
     "output_type": "stream",
     "text": [
      "Elapsed time: 803.017\n",
      "f1 score, train: 0.9984131182226924\n",
      "f1 score, valid: 0.8955582232893158\n",
      "MLPClassifier(activation='relu', alpha=0.0001, batch_size='auto', beta_1=0.9,\n",
      "              beta_2=0.999, early_stopping=False, epsilon=1e-08,\n",
      "              hidden_layer_sizes=(200,), learning_rate='constant',\n",
      "              learning_rate_init=0.001, max_fun=15000, max_iter=400,\n",
      "              momentum=0.9, n_iter_no_change=10, nesterovs_momentum=True,\n",
      "              power_t=0.5, random_state=None, shuffle=True, solver='adam',\n",
      "              tol=0.0001, validation_fraction=0.1, verbose=False,\n",
      "              warm_start=False)\n"
     ]
    }
   ],
   "source": [
    "t1 = time.clock()\n",
    "clf = MLPClassifier(hidden_layer_sizes=(200,), max_iter=400)\n",
    "clf.fit(X_train, y_train)\n",
    "t2 = time.clock()\n",
    "print(\"Elapsed time: %.3f\" %(t2-t1))\n",
    "\n",
    "print('f1 score, train:', f1_score(y_train,clf.predict(X_train)))\n",
    "print('f1 score, valid:', f1_score(y_valid,clf.predict(X_valid)))\n",
    "print(clf)"
   ]
  },
  {
   "cell_type": "code",
   "execution_count": 4,
   "metadata": {},
   "outputs": [],
   "source": [
    "X_test = test.Sequence.apply(lambda x: pd.Series(one_hot_encode(x)),1)\n",
    "Y_test = clf.predict(X_test)\n",
    "df = pd.Series(Y_test)\n",
    "df.to_csv('labels.csv', index=False, header=False)"
   ]
  }
 ],
 "metadata": {
  "kernelspec": {
   "display_name": "Python 3",
   "language": "python",
   "name": "python3"
  },
  "language_info": {
   "codemirror_mode": {
    "name": "ipython",
    "version": 3
   },
   "file_extension": ".py",
   "mimetype": "text/x-python",
   "name": "python",
   "nbconvert_exporter": "python",
   "pygments_lexer": "ipython3",
   "version": "3.7.4"
  }
 },
 "nbformat": 4,
 "nbformat_minor": 4
}
