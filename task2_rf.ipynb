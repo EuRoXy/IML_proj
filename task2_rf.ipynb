{
 "cells": [
  {
   "cell_type": "code",
   "execution_count": null,
   "metadata": {},
   "outputs": [],
   "source": [
    "import numpy as np\n",
    "import pandas as pd\n",
    "from pathlib import Path\n",
    "\n",
    "from sklearn.model_selection import train_test_split\n",
    "from sklearn.utils.class_weight import compute_class_weight\n",
    "from sklearn.metrics import accuracy_score, roc_auc_score,r2_score"
   ]
  },
  {
   "cell_type": "code",
   "execution_count": null,
   "metadata": {},
   "outputs": [],
   "source": [
    "from sklearn.ensemble import RandomForestClassifier, RandomForestRegressor"
   ]
  },
  {
   "cell_type": "code",
   "execution_count": null,
   "metadata": {},
   "outputs": [],
   "source": [
    "PARAM = {\n",
    "    'train_featus': Path(\"train_features.csv\"),\n",
    "    'train_labels': Path(\"train_labels.csv\"),\n",
    "\n",
    "    # For classification\n",
    "    'target_label': \"LABEL_Sepsis\",\n",
    "    'test_featus' : Path(\"test_features.csv\"),\n",
    "    \n",
    "    'train_split': 0.8\n",
    "}\n",
    "\n",
    "df_meta = {\n",
    "    'train': {\n",
    "        'featus': pd.read_csv(PARAM['train_featus']),\n",
    "        'labels': pd.read_csv(PARAM['train_labels']),\n",
    "    },\n",
    "    'test' : pd.read_csv(PARAM['test_featus'])\n",
    "}\n",
    "\n",
    "#print(\"Training features:\", list(df_meta['train']['featus'].columns))\n",
    "print(\"Training labels:\", list(df_meta['train']['labels'].columns))\n",
    "\n",
    "X = df_meta['train']['featus']"
   ]
  },
  {
   "cell_type": "code",
   "execution_count": null,
   "metadata": {},
   "outputs": [],
   "source": [
    "X1 = X.groupby('pid').last()\n",
    "X2 = X1.fillna(X1.median())\n",
    "X = X2\n",
    "\n",
    "y_all = df_meta['train']['labels'].set_index('pid')\n",
    "\n",
    "print(F'num sample X: {len(X)}, y: {len(y)}')\n",
    "\n",
    "X, y_all = X.align(y_all, axis=0, join='inner')\n",
    "y_all  = y_all.astype(int)"
   ]
  },
  {
   "cell_type": "code",
   "execution_count": null,
   "metadata": {},
   "outputs": [],
   "source": [
    "X_test = df_meta['test']\n",
    "X_test1 = X_test.groupby('pid').last()\n",
    "X_test2 = X_test1.fillna(X_test1.median())\n",
    "X_test = X_test2\n",
    "\n",
    "df_out = pd.DataFrame({'pid': X_test.index})"
   ]
  },
  {
   "cell_type": "code",
   "execution_count": null,
   "metadata": {},
   "outputs": [],
   "source": [
    "# ls_clf = []\n",
    "for i in np.arange(y_all.columns.get_loc(PARAM['target_label'])+1):\n",
    "    y = y_all.iloc[:,i]\n",
    "    #print(\"Classes:\", dict(Counter(y)))\n",
    "\n",
    "    #class_weight = dict(zip([0, 1], compute_class_weight('balanced', [0, 1], y)))\n",
    "    print(list(y_all.columns)[i]) #,\"Class weights:\", class_weight)\n",
    "\n",
    "    (X_train, X_valid, y_train, y_valid) = train_test_split(X, y, train_size=PARAM['train_split'], random_state=2)\n",
    "    #print(F\"Train/valid size: {len(X_train)}/{len(X_valid)}\")\n",
    "\n",
    "    clf = RandomForestClassifier(max_depth=12, random_state=2, n_estimators=100)#, class_weight=class_weight)\n",
    "    clf.fit(X_train, y_train)\n",
    "    \n",
    "    #print(\"ROC~AUC score, train:\", roc_auc_score(y_train, clf.predict_proba(X_train)[:, 1]))\n",
    "    #print(\"ROC~AUC score, valid:\", roc_auc_score(y_valid, clf.predict_proba(X_valid)[:, 1]))\n",
    "\n",
    "    y_pred = clf.predict_proba(X_test)\n",
    "    #print(y_pred[:, 1])\n",
    "    \n",
    "    df_out[list(y_all.columns)[i]] = y_pred[:,1]\n",
    "#print(df_out.head())"
   ]
  },
  {
   "cell_type": "code",
   "execution_count": null,
   "metadata": {},
   "outputs": [],
   "source": [
    "#ls_regr = []\n",
    "for i in np.arange(y_all.columns.get_loc(PARAM['target_label'])+1,15):\n",
    "    y = y_all.iloc[:,i]\n",
    "    print(list(y_all.columns)[i])\n",
    "\n",
    "    (X_train, X_valid, y_train, y_valid) = train_test_split(X, y, train_size=PARAM['train_split'], random_state=2)\n",
    "    #print(F\"Train/valid size: {len(X_train)}/{len(X_valid)}\")\n",
    "\n",
    "    regr = RandomForestRegressor(max_depth=12, random_state=0, n_estimators=100)\n",
    "    regr.fit(X_train, y_train)\n",
    "    \n",
    "    y_pred = regr.predict(X_test)\n",
    "    df_out[list(y_all.columns)[i]] = y_pred\n",
    "\n",
    "print(df_out.head())"
   ]
  },
  {
   "cell_type": "code",
   "execution_count": null,
   "metadata": {},
   "outputs": [],
   "source": [
    "df_out.to_csv('prediction.csv', index=False, float_format='%.3f', compression='zip')"
   ]
  },
  {
   "cell_type": "markdown",
   "metadata": {},
   "source": [
    "irrelavant part"
   ]
  },
  {
   "cell_type": "code",
   "execution_count": null,
   "metadata": {},
   "outputs": [],
   "source": [
    "    '''print('')\n",
    "    ls_clf.append(roc_auc_score(y_valid, clf.predict_proba(X_valid)[:, 1]))\n",
    "print(ls_clf)\n",
    "\n",
    "s1 = np.mean(ls_clf)\n",
    "print(s1)'''\n",
    "\n",
    "    '''print(\"R2 score, train:\", 0.5 + 0.5 * r2_score(y_train, regr.predict(X_train)))\n",
    "    print(\"R2 score, valid:\", 0.5 + 0.5 * r2_score(y_valid, regr.predict(X_valid)))\n",
    "    print('')\n",
    "    ls_regr.append(0.5 + 0.5 * r2_score(y_valid, regr.predict(X_valid)))\n",
    "print(ls_regr)\n",
    "s2 = np.mean(ls_regr)\n",
    "print(s2)'''"
   ]
  },
  {
   "cell_type": "code",
   "execution_count": null,
   "metadata": {},
   "outputs": [],
   "source": [
    "print('avg:',(s1+s2)/2)"
   ]
  },
  {
   "cell_type": "code",
   "execution_count": null,
   "metadata": {},
   "outputs": [],
   "source": [
    "from score_submission import get_score\n",
    "\n",
    "filename = 'sample.zip'\n",
    "filename_sub = 'prediction.zip'\n",
    "\n",
    "df_true = pd.read_csv(filename)\n",
    "df_submission = pd.read_csv(filename_sub)\n",
    "\n",
    "print('My score with sample.zip as groundtruth', get_score(df_true, df_submission))"
   ]
  }
 ],
 "metadata": {
  "kernelspec": {
   "display_name": "Python 3",
   "language": "python",
   "name": "python3"
  },
  "language_info": {
   "codemirror_mode": {
    "name": "ipython",
    "version": 3
   },
   "file_extension": ".py",
   "mimetype": "text/x-python",
   "name": "python",
   "nbconvert_exporter": "python",
   "pygments_lexer": "ipython3",
   "version": "3.7.4"
  }
 },
 "nbformat": 4,
 "nbformat_minor": 4
}
