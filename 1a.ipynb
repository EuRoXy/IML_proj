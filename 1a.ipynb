{
 "cells": [
  {
   "cell_type": "code",
   "execution_count": 1,
   "metadata": {},
   "outputs": [],
   "source": [
    "import numpy as np\n",
    "import pandas as pd\n",
    "\n",
    "from sklearn.model_selection import KFold\n",
    "from sklearn.linear_model import Ridge\n",
    "from sklearn.metrics import mean_squared_error as mse"
   ]
  },
  {
   "cell_type": "code",
   "execution_count": 2,
   "metadata": {},
   "outputs": [
    {
     "data": {
      "text/html": [
       "<div>\n",
       "<style scoped>\n",
       "    .dataframe tbody tr th:only-of-type {\n",
       "        vertical-align: middle;\n",
       "    }\n",
       "\n",
       "    .dataframe tbody tr th {\n",
       "        vertical-align: top;\n",
       "    }\n",
       "\n",
       "    .dataframe thead th {\n",
       "        text-align: right;\n",
       "    }\n",
       "</style>\n",
       "<table border=\"1\" class=\"dataframe\">\n",
       "  <thead>\n",
       "    <tr style=\"text-align: right;\">\n",
       "      <th></th>\n",
       "      <th>Id</th>\n",
       "      <th>y</th>\n",
       "      <th>x1</th>\n",
       "      <th>x2</th>\n",
       "      <th>x3</th>\n",
       "      <th>x4</th>\n",
       "      <th>x5</th>\n",
       "      <th>x6</th>\n",
       "      <th>x7</th>\n",
       "      <th>x8</th>\n",
       "      <th>x9</th>\n",
       "      <th>x10</th>\n",
       "      <th>x11</th>\n",
       "      <th>x12</th>\n",
       "      <th>x13</th>\n",
       "    </tr>\n",
       "  </thead>\n",
       "  <tbody>\n",
       "    <tr>\n",
       "      <td>0</td>\n",
       "      <td>0</td>\n",
       "      <td>22.6</td>\n",
       "      <td>0.06724</td>\n",
       "      <td>0.0</td>\n",
       "      <td>3.24</td>\n",
       "      <td>0.0</td>\n",
       "      <td>0.460</td>\n",
       "      <td>6.333</td>\n",
       "      <td>17.2</td>\n",
       "      <td>5.2146</td>\n",
       "      <td>4.0</td>\n",
       "      <td>430.0</td>\n",
       "      <td>16.9</td>\n",
       "      <td>375.21</td>\n",
       "      <td>7.34</td>\n",
       "    </tr>\n",
       "    <tr>\n",
       "      <td>1</td>\n",
       "      <td>1</td>\n",
       "      <td>50.0</td>\n",
       "      <td>9.23230</td>\n",
       "      <td>0.0</td>\n",
       "      <td>18.10</td>\n",
       "      <td>0.0</td>\n",
       "      <td>0.631</td>\n",
       "      <td>6.216</td>\n",
       "      <td>100.0</td>\n",
       "      <td>1.1691</td>\n",
       "      <td>24.0</td>\n",
       "      <td>666.0</td>\n",
       "      <td>20.2</td>\n",
       "      <td>366.15</td>\n",
       "      <td>9.53</td>\n",
       "    </tr>\n",
       "    <tr>\n",
       "      <td>2</td>\n",
       "      <td>2</td>\n",
       "      <td>23.0</td>\n",
       "      <td>0.11425</td>\n",
       "      <td>0.0</td>\n",
       "      <td>13.89</td>\n",
       "      <td>1.0</td>\n",
       "      <td>0.550</td>\n",
       "      <td>6.373</td>\n",
       "      <td>92.4</td>\n",
       "      <td>3.3633</td>\n",
       "      <td>5.0</td>\n",
       "      <td>276.0</td>\n",
       "      <td>16.4</td>\n",
       "      <td>393.74</td>\n",
       "      <td>10.50</td>\n",
       "    </tr>\n",
       "    <tr>\n",
       "      <td>3</td>\n",
       "      <td>3</td>\n",
       "      <td>8.3</td>\n",
       "      <td>24.80170</td>\n",
       "      <td>0.0</td>\n",
       "      <td>18.10</td>\n",
       "      <td>0.0</td>\n",
       "      <td>0.693</td>\n",
       "      <td>5.349</td>\n",
       "      <td>96.0</td>\n",
       "      <td>1.7028</td>\n",
       "      <td>24.0</td>\n",
       "      <td>666.0</td>\n",
       "      <td>20.2</td>\n",
       "      <td>396.90</td>\n",
       "      <td>19.77</td>\n",
       "    </tr>\n",
       "    <tr>\n",
       "      <td>4</td>\n",
       "      <td>4</td>\n",
       "      <td>21.2</td>\n",
       "      <td>0.05646</td>\n",
       "      <td>0.0</td>\n",
       "      <td>12.83</td>\n",
       "      <td>0.0</td>\n",
       "      <td>0.437</td>\n",
       "      <td>6.232</td>\n",
       "      <td>53.7</td>\n",
       "      <td>5.0141</td>\n",
       "      <td>5.0</td>\n",
       "      <td>398.0</td>\n",
       "      <td>18.7</td>\n",
       "      <td>386.40</td>\n",
       "      <td>12.34</td>\n",
       "    </tr>\n",
       "  </tbody>\n",
       "</table>\n",
       "</div>"
      ],
      "text/plain": [
       "   Id     y        x1   x2     x3   x4     x5     x6     x7      x8    x9  \\\n",
       "0   0  22.6   0.06724  0.0   3.24  0.0  0.460  6.333   17.2  5.2146   4.0   \n",
       "1   1  50.0   9.23230  0.0  18.10  0.0  0.631  6.216  100.0  1.1691  24.0   \n",
       "2   2  23.0   0.11425  0.0  13.89  1.0  0.550  6.373   92.4  3.3633   5.0   \n",
       "3   3   8.3  24.80170  0.0  18.10  0.0  0.693  5.349   96.0  1.7028  24.0   \n",
       "4   4  21.2   0.05646  0.0  12.83  0.0  0.437  6.232   53.7  5.0141   5.0   \n",
       "\n",
       "     x10   x11     x12    x13  \n",
       "0  430.0  16.9  375.21   7.34  \n",
       "1  666.0  20.2  366.15   9.53  \n",
       "2  276.0  16.4  393.74  10.50  \n",
       "3  666.0  20.2  396.90  19.77  \n",
       "4  398.0  18.7  386.40  12.34  "
      ]
     },
     "execution_count": 2,
     "metadata": {},
     "output_type": "execute_result"
    }
   ],
   "source": [
    "ds = pd.DataFrame(pd.read_csv('train.csv'))\n",
    "ds.head()"
   ]
  },
  {
   "cell_type": "code",
   "execution_count": 3,
   "metadata": {},
   "outputs": [],
   "source": [
    "X = ds.iloc[:,2:]\n",
    "y = ds.y"
   ]
  },
  {
   "cell_type": "code",
   "execution_count": 33,
   "metadata": {},
   "outputs": [],
   "source": [
    "def eval(rs):\n",
    "    mean_rmses = []\n",
    "    lambdas = [0.01, 0.1, 1, 10, 100]\n",
    "    for lam in lambdas:\n",
    "\n",
    "        linRegr = Ridge(alpha=lam) #, fit_intercept=False)\n",
    "\n",
    "        rmses = []\n",
    "        kf = KFold(n_splits=10, shuffle=True, random_state=rs)\n",
    "        for train_ind, val_ind in kf.split(X):\n",
    "            x_train, y_train = X.iloc[train_ind], y.iloc[train_ind]\n",
    "            x_val, y_val = X.iloc[val_ind], y.iloc[val_ind]\n",
    "\n",
    "            linRegr.fit(x_train, y_train)\n",
    "            y_pred = linRegr.predict(x_val)\n",
    "\n",
    "            rmse = np.sqrt(mse(y_val, y_pred))\n",
    "            rmses.append(rmse)\n",
    "\n",
    "            mean = np.array(rmses).mean()\n",
    "        #print(mean)\n",
    "        mean_rmses.append(mean)\n",
    "\n",
    "    print('mean of 5 at rs ', rs)\n",
    "    print(np.array(mean_rmses).mean())\n",
    "    return np.array(mean_rmses).mean()"
   ]
  },
  {
   "cell_type": "code",
   "execution_count": 32,
   "metadata": {},
   "outputs": [
    {
     "name": "stdout",
     "output_type": "stream",
     "text": [
      "5.104237965448703\n",
      "5.103491161277646\n",
      "5.098751504014656\n",
      "5.0921184924044995\n",
      "5.252823226251261\n",
      "mean of 5 at rs  20\n",
      "5.130284469879354\n"
     ]
    },
    {
     "data": {
      "text/plain": [
       "5.130284469879354"
      ]
     },
     "execution_count": 32,
     "metadata": {},
     "output_type": "execute_result"
    }
   ],
   "source": [
    "eval(20)"
   ]
  },
  {
   "cell_type": "code",
   "execution_count": 34,
   "metadata": {},
   "outputs": [
    {
     "name": "stdout",
     "output_type": "stream",
     "text": [
      "mean of 5 at rs  0\n",
      "4.855940175530655\n",
      "mean of 5 at rs  10\n",
      "4.871523541295313\n",
      "mean of 5 at rs  20\n",
      "4.9161236074212225\n",
      "mean of 5 at rs  30\n",
      "4.8819373060235005\n",
      "mean of 5 at rs  40\n",
      "4.858672926216824\n",
      "mean of 5 at rs  50\n",
      "4.8317824210208045\n",
      "mean of 5 at rs  60\n",
      "4.888937452507598\n",
      "mean of 5 at rs  70\n",
      "4.83429657282292\n",
      "mean of 5 at rs  80\n",
      "4.868219232286945\n",
      "mean of 5 at rs  90\n",
      "4.843059701979894\n",
      "mean of 5 at rs  100\n",
      "4.8416805723611285\n"
     ]
    }
   ],
   "source": [
    "ls = [eval(i) for i in range(0,101,10)]"
   ]
  },
  {
   "cell_type": "code",
   "execution_count": 35,
   "metadata": {},
   "outputs": [
    {
     "name": "stdout",
     "output_type": "stream",
     "text": [
      "mean of 5 at rs  40\n",
      "4.858672926216824\n",
      "mean of 5 at rs  44\n",
      "4.854671873084707\n",
      "mean of 5 at rs  48\n",
      "4.819398597018761\n",
      "mean of 5 at rs  52\n",
      "4.782515051429014\n",
      "mean of 5 at rs  56\n",
      "4.865519337758309\n",
      "mean of 5 at rs  60\n",
      "4.888937452507598\n"
     ]
    }
   ],
   "source": [
    "ls = [eval(i) for i in range(40,61,4)]"
   ]
  },
  {
   "cell_type": "markdown",
   "metadata": {},
   "source": [
    "intercept = false => rs=71\n",
    "intercept = true => rs=52"
   ]
  }
 ],
 "metadata": {
  "kernelspec": {
   "display_name": "Python 3",
   "language": "python",
   "name": "python3"
  },
  "language_info": {
   "codemirror_mode": {
    "name": "ipython",
    "version": 3
   },
   "file_extension": ".py",
   "mimetype": "text/x-python",
   "name": "python",
   "nbconvert_exporter": "python",
   "pygments_lexer": "ipython3",
   "version": "3.7.4"
  }
 },
 "nbformat": 4,
 "nbformat_minor": 4
}
